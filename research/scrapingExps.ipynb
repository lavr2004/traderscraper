{
 "cells": [
  {
   "cell_type": "code",
   "execution_count": 1,
   "metadata": {
    "collapsed": true
   },
   "outputs": [],
   "source": [
    "t = \"\"\"\n",
    "<div class=\"post-article-content  lg:col-span-8\">\n",
    "\n",
    "                    <div class=\"post-article-image  -mt-24  mb-8  lg:-mt-32  rounded  overflow-hidden\">\n",
    "\n",
    "<picture>\n",
    "    <source srcset=\"https://coinjournal.net/wp-content/uploads/imagecache/2023/12/1703160051410-a8b02c13-1bc5-48f6-87ba-97bc09132c16-smartcrop-750x375.webp\" type=\"image/webp\" media=\"(min-width: 750px)\"></source>\n",
    "    <source srcset=\"https://coinjournal.net/wp-content/uploads/imagecache/2023/12/1703160051410-a8b02c13-1bc5-48f6-87ba-97bc09132c16-smartcrop-363x181.webp\" type=\"image/webp\"></source>\n",
    "    <source srcset=\"https://coinjournal.net/wp-content/uploads/imagecache/2023/12/1703160051410-a8b02c13-1bc5-48f6-87ba-97bc09132c16-smartcrop-750x375.jpg\" type=\"image/jpeg\" media=\"(min-width: 750px)\"></source>\n",
    "    <source srcset=\"https://coinjournal.net/wp-content/uploads/imagecache/2023/12/1703160051410-a8b02c13-1bc5-48f6-87ba-97bc09132c16-smartcrop-363x181.jpg\" type=\"image/jpeg\"></source>\n",
    "    <img data-src=\"https://coinjournal.net/wp-content/uploads/2023/12/1703160051410-a8b02c13-1bc5-48f6-87ba-97bc09132c16.jpg\" alt=\"\" width=\"100%\" height=\"100%\">\n",
    "</picture>                    </div>\n",
    "\n",
    "                    <ul>\n",
    "<li dir=\"ltr\">\n",
    "<p dir=\"ltr\">Memeinator’s token sale has raised over $3 million in the past few months.</p>\n",
    "</li>\n",
    "<li dir=\"ltr\">\n",
    "<p dir=\"ltr\">Tectum token surged as investors cheered the growth of its holders.</p>\n",
    "</li>\n",
    "<li dir=\"ltr\">\n",
    "<p dir=\"ltr\">Solana remained under intense pressure as demand waned.</p>\n",
    "</li>\n",
    "</ul>\n",
    "<p dir=\"ltr\">Cryptocurrency prices are bracing for a big week that could set the tone for the rest of the year. The Securities and Exchange Commission (SEC) is widely expected to approve Bitcoin ETFs by the likes of Blackrock, Invesco, Fidelity, and Franklin Templeton. </p>\n",
    "<p dir=\"ltr\">The SEC has already asked the applicants to submit their final revisions ahead of a vote set for this week. Most experts believe that the agency has no reason to deny these applications because companies have already added the mitigation measures that the agency requested. This article looks at some of the top cryptocurrencies to watch this week, including Memeinator (MMTR), Tectum (TET), and Solana (SOL).</p>\n",
    "<h2 dir=\"ltr\">Memeinator prediction</h2>\n",
    "<p dir=\"ltr\">Memeinator, one of the upcoming meme coins, has continued doing well in the past few months. The company has raised over $3 million in a token sale that has been going on for the past few months. This makes it one of the fastest-growing tokens in the industry. </p>\n",
    "<p dir=\"ltr\">Memeinator aims to be the next big thing in the crypto industry. Precisely, it aims to become a major player in the meme coin industry that is now dominated by the likes of Dogecoin and Shiba Inu. It also aims to beat the new age meme coins like MEME, Pepe, and Bonk., which surged hard in 2023.</p>\n",
    "<p dir=\"ltr\">Memeinator aims to achieve this by creating an active community of enthusiast in its ecosystem. It also aims to create an ecosystem made up of games and NFTs in the future. Also, the developers aim to incorporate concepts of artificial intelligence (AI) to its ecosystem. You can buy the MMTR token <a href=\"https://memeinator.com/?utm_source=media&amp;utm_medium=artc&amp;utm_campaign=coinjournal&amp;utm_term=internal&amp;utm_content=price_prediction\"><u>here</u></a>.</p>\n",
    "<h2 dir=\"ltr\">Tectum price forecast</h2>\n",
    "<p><img decoding=\"async\" src=\"https://media.igms.io/2024/00/07/1704653108018-2ea1f006-6c8f-4f10-874d-6b60faf21081.png\" style=\"width: 681px;height: 376.82px\" class=\"fr-fic fr-dib\" width=\"681\" height=\"376.82\"></p>\n",
    "<p dir=\"ltr\">Tectum is a blockchain project that claims to be the fastest one in the industry. According to its website, it can handle over 1 million transactions per second. This is a major figure considering that Ethereum handles less than 30 TPS. It is faster than most other well-known networks like Fantom, Avalanche, and Tron. </p>\n",
    "<p dir=\"ltr\">TET, its token, was one of the top performers during the weekend as demand for the token jumped. According to its website, its holders jumped to over 12k across the ERC20, BEP20, and T12 networks. TET is used to mint Softnotes, paying merchant fees, Tectum gas fee, and bridged token fees.</p>\n",
    "<p dir=\"ltr\">The 4H chart shows that the TET crypto price has been in a strong uptrend in the past few weeks. It has moved from a low of $9.07 in December to over $45. It remains above the 50-day and 25-day Exponential Moving Averages (EMA). </p>\n",
    "<p dir=\"ltr\">The outlook for Tectum is still bullish, with the next point to watch being at the YTD high of $45. A drop below the support at $35 will invalidate the bullish view.</p>\n",
    "<p dir=\"ltr\"><a href=\"https://twitter.com/tectumsocial/status/1744043800610148429\">https://twitter.com/tectumsocial/status/1744043800610148429</a></p>\n",
    "<h2 dir=\"ltr\">Solana price forecast</h2>\n",
    "<p><img decoding=\"async\" loading=\"lazy\" src=\"https://media.igms.io/2024/00/07/1704653108257-bd236fd4-af89-4a8c-8a42-c3ad6a16be95.png\" style=\"width: 676px;height: 374.053px\" class=\"fr-fic fr-dib\" width=\"676\" height=\"374.053\"></p>\n",
    "<p dir=\"ltr\"><a href=\"https://coinjournal.net/solana/\"><u>Solana</u></a> price has suffered a harsh reversal in the past few days. After peaking at $126 in December, the token has pulled back to $96. It has remained below the 50-period and 25-period moving averages. The coin’s Relative Strength Index (RSI) has continued falling and is hovering near the oversold level.</p>\n",
    "<p dir=\"ltr\">Therefore, the outlook for Solana price is bearish, with the next point to watch being at $84.70, the lowest swing on January 3rd. A move above the key resistance at $100 will invalidate the bearish view.</p>\n",
    "\n",
    "\n",
    "                    <div class=\"post-meta\">\n",
    "\n",
    "                        <hr class=\"mb-6\"><h6 class=\"text-3xl  mb-4  text-green-300\">Share this article</h6><div class=\"share  mb-6  mx-6  md:mx-0\"><div class=\"flex  flex-wrap  -ml-3  font-bold  text-xxs  text-center  uppercase\">\n",
    "                            <div class=\"pl-3  mb-3\">\n",
    "                                <a href=\"https://twitter.com/share?url=https://coinjournal.net/news/crypto-price-prediction-memeinator-mmtr-tectum-tet-solana/&amp;text=Crypto%20price%20prediction:%20Memeinator%20(MMTR),%20Tectum%20(TET),%20Solana\" aria-label=\"Share on Twitter\" rel=\"nofollow noopener noreferrer\" class=\"block  flex  items-center  justify-center  h-9  w-9  rounded-full  bg-grey-300  text-sm  text-white  hover:bg-[#269af3]\">\n",
    "                                    <svg aria-hidden=\"true\" focusable=\"false\" role=\"img\" xmlns=\"http://www.w3.org/2000/svg\" viewbox=\"0 0 512 512\" class=\"w-3.5 h-3.5\"><path fill=\"currentColor\" d=\"M459.37 151.716c.325 4.548.325 9.097.325 13.645 0 138.72-105.583 298.558-298.558 298.558-59.452 0-114.68-17.219-161.137-47.106 8.447.974 16.568 1.299 25.34 1.299 49.055 0 94.213-16.568 130.274-44.832-46.132-.975-84.792-31.188-98.112-72.772 6.498.974 12.995 1.624 19.818 1.624 9.421 0 18.843-1.3 27.614-3.573-48.081-9.747-84.143-51.98-84.143-102.985v-1.299c13.969 7.797 30.214 12.67 47.431 13.319-28.264-18.843-46.781-51.005-46.781-87.391 0-19.492 5.197-37.36 14.294-52.954 51.655 63.675 129.3 105.258 216.365 109.807-1.624-7.797-2.599-15.918-2.599-24.04 0-57.828 46.782-104.934 104.934-104.934 30.213 0 57.502 12.67 76.67 33.137 23.715-4.548 46.456-13.32 66.599-25.34-7.798 24.366-24.366 44.833-46.132 57.827 21.117-2.273 41.584-8.122 60.426-16.243-14.292 20.791-32.161 39.308-52.628 54.253z\"></path></svg>\n",
    "                                </a>\n",
    "                            </div>\n",
    "                            <div class=\"pl-3 mb-3\">\n",
    "                                <a href=\"https://www.facebook.com/sharer.php?u=https://coinjournal.net/news/crypto-price-prediction-memeinator-mmtr-tectum-tet-solana/\" aria-label=\"Share on Facebook\" rel=\"nofollow noopener noreferrer\" class=\"block  flex  items-center  justify-center  h-9  w-9  rounded-full  bg-grey-300  text-sm  text-white  hover:bg-[#1a77ee]\">\n",
    "                                    <svg aria-hidden=\"true\" focusable=\"false\" role=\"img\" xmlns=\"http://www.w3.org/2000/svg\" viewbox=\"0 0 320 512\" class=\"w-3.5 h-3.5\"><path fill=\"currentColor\" d=\"M279.14 288l14.22-92.66h-88.91v-60.13c0-25.35 12.42-50.06 52.24-50.06h40.42V6.26S260.43 0 225.36 0c-73.22 0-121.08 44.38-121.08 124.72v70.62H22.89V288h81.39v224h100.17V288z\"></path></svg>\n",
    "                                </a>\n",
    "                            </div>\n",
    "                            <div class=\"pl-3\">\n",
    "                                <a href=\"https://telegram.me/share/url?url=https://coinjournal.net/news/crypto-price-prediction-memeinator-mmtr-tectum-tet-solana/&amp;text=Crypto%20price%20prediction:%20Memeinator%20(MMTR),%20Tectum%20(TET),%20Solana\" aria-label=\"Share on Telegram\" rel=\"nofollow noopener noreferrer\" class=\"block  flex  items-center  justify-center  h-9  w-9  rounded-full  bg-grey-300  text-sm  text-white  hover:bg-[#04a0d6]\">\n",
    "                                    <svg aria-hidden=\"true\" focusable=\"false\" role=\"img\" xmlns=\"http://www.w3.org/2000/svg\" viewbox=\"0 0 448 512\" class=\"w-3.5 h-3.5\"><path fill=\"currentColor\" d=\"M446.7 98.6l-67.6 318.8c-5.1 22.5-18.4 28.1-37.3 17.5l-103-75.9-49.7 47.8c-5.5 5.5-10.1 10.1-20.7 10.1l7.4-104.9 190.9-172.5c8.3-7.4-1.8-11.5-12.9-4.1L117.8 284 16.2 252.2c-22.1-6.9-22.5-22.1 4.6-32.7L418.2 66.4c18.4-6.9 34.5 4.1 28.5 32.2z\"></path></svg>\n",
    "                                </a>\n",
    "                            </div>\n",
    "                            <div class=\"pl-3\">\n",
    "                                <a href=\"/cdn-cgi/l/email-protection#122d616770787771662f51606b62667d3262607b717732626077767b71667b7d7c28325f777f777b7c73667d60323a5f5f46403b3e3246777166677f323a4657463b3e32417d7e737c7334707d766b2f7a66666261283d3d717d7b7c787d67607c737e3c7c77663d7c7765613d71606b62667d3f62607b71773f626077767b71667b7d7c3f7f777f777b7c73667d603f7f7f66603f66777166677f3f6677663f617d7e737c733d\" aria-label=\"Share via email\" rel=\"nofollow noopener noreferrer\" class=\"block  flex  items-center  justify-center  h-9  w-9  rounded-full  bg-grey-300  text-sm  text-white  hover:bg-[#000000]\">\n",
    "                                    <svg aria-hidden=\"true\" focusable=\"false\" data-prefix=\"fas\" role=\"img\" xmlns=\"http://www.w3.org/2000/svg\" viewbox=\"0 0 512 512\" class=\"w-3.5 h-3.5\"><path fill=\"currentColor\" d=\"M502.3 190.8c3.9-3.1 9.7-.2 9.7 4.7V400c0 26.5-21.5 48-48 48H48c-26.5 0-48-21.5-48-48V195.6c0-5 5.7-7.8 9.7-4.7 22.4 17.4 52.1 39.5 154.1 113.6 21.1 15.4 56.7 47.8 92.2 47.6 35.7.3 72-32.8 92.3-47.6 102-74.1 131.6-96.3 154-113.7zM256 320c23.2.4 56.6-29.2 73.4-41.4 132.7-96.3 142.8-104.7 173.4-128.7 5.8-4.5 9.2-11.5 9.2-18.9v-19c0-26.5-21.5-48-48-48H48C21.5 64 0 85.5 0 112v19c0 7.4 3.4 14.3 9.2 18.9 30.6 23.9 40.7 32.4 173.4 128.7 16.8 12.2 50.2 41.8 73.4 41.4z\"></path></svg>\n",
    "                                </a>\n",
    "                            </div>\n",
    "                            <div class=\"pl-3\">\n",
    "                                <a href=\"https://reddit.com/submit?url=https://coinjournal.net/news/crypto-price-prediction-memeinator-mmtr-tectum-tet-solana/&amp;title=Crypto%20price%20prediction:%20Memeinator%20(MMTR),%20Tectum%20(TET),%20Solana\" aria-label=\"Share on Reddit\" rel=\"nofollow noopener noreferrer\" class=\"block  flex  items-center  justify-center  h-9  w-9  rounded-full  bg-grey-300  text-sm  text-white  hover:bg-[#f8421f]\">\n",
    "                                    <svg aria-hidden=\"true\" focusable=\"false\" role=\"img\" xmlns=\"http://www.w3.org/2000/svg\" viewbox=\"0 0 512 512\" class=\"w-3.5 h-3.5\"><path fill=\"currentColor\" d=\"M440.3 203.5c-15 0-28.2 6.2-37.9 15.9-35.7-24.7-83.8-40.6-137.1-42.3L293 52.3l88.2 19.8c0 21.6 17.6 39.2 39.2 39.2 22 0 39.7-18.1 39.7-39.7s-17.6-39.7-39.7-39.7c-15.4 0-28.7 9.3-35.3 22l-97.4-21.6c-4.9-1.3-9.7 2.2-11 7.1L246.3 177c-52.9 2.2-100.5 18.1-136.3 42.8-9.7-10.1-23.4-16.3-38.4-16.3-55.6 0-73.8 74.6-22.9 100.1-1.8 7.9-2.6 16.3-2.6 24.7 0 83.8 94.4 151.7 210.3 151.7 116.4 0 210.8-67.9 210.8-151.7 0-8.4-.9-17.2-3.1-25.1 49.9-25.6 31.5-99.7-23.8-99.7zM129.4 308.9c0-22 17.6-39.7 39.7-39.7 21.6 0 39.2 17.6 39.2 39.7 0 21.6-17.6 39.2-39.2 39.2-22 .1-39.7-17.6-39.7-39.2zm214.3 93.5c-36.4 36.4-139.1 36.4-175.5 0-4-3.5-4-9.7 0-13.7 3.5-3.5 9.7-3.5 13.2 0 27.8 28.5 120 29 149 0 3.5-3.5 9.7-3.5 13.2 0 4.1 4 4.1 10.2.1 13.7zm-.8-54.2c-21.6 0-39.2-17.6-39.2-39.2 0-22 17.6-39.7 39.2-39.7 22 0 39.7 17.6 39.7 39.7-.1 21.5-17.7 39.2-39.7 39.2z\"></path></svg>\n",
    "                                </a>\n",
    "                            </div>\n",
    "                            <div class=\"pl-3\">\n",
    "                                <a href=\"https://www.linkedin.com/shareArticle?url=https://coinjournal.net/news/crypto-price-prediction-memeinator-mmtr-tectum-tet-solana/&amp;title=Crypto%20price%20prediction:%20Memeinator%20(MMTR),%20Tectum%20(TET),%20Solana\" aria-label=\"Share on Linkedin\" rel=\"nofollow noopener noreferrer\" class=\"block  flex  items-center  justify-center  h-9  w-9  rounded-full  bg-grey-300  text-sm  text-white  hover:bg-[#2d67b1]\">\n",
    "                                    <svg aria-hidden=\"true\" focusable=\"false\" role=\"img\" xmlns=\"http://www.w3.org/2000/svg\" viewbox=\"0 0 448 512\" class=\"w-3.5 h-3.5\"><path fill=\"currentColor\" d=\"M100.28 448H7.4V148.9h92.88zM53.79 108.1C24.09 108.1 0 83.5 0 53.8a53.79 53.79 0 0 1 107.58 0c0 29.7-24.1 54.3-53.79 54.3zM447.9 448h-92.68V302.4c0-34.7-.7-79.2-48.29-79.2-48.29 0-55.69 37.7-55.69 76.7V448h-92.78V148.9h89.08v40.8h1.3c12.4-23.5 42.69-48.3 87.88-48.3 94 0 111.28 61.9 111.28 142.3V448z\"></path></svg>\n",
    "                                </a>\n",
    "                            </div>\n",
    "                        </div>\n",
    "                    </div><hr class=\"mb-6\"><h6 class=\"text-3xl  mb-4  text-green-300\">Categories</h6><div class=\"tags  mx-6  md:mx-0\"><div class=\"flex  flex-wrap  -ml-3  mb-4  lg:mb-6  font-bold  text-xxs  text-center  uppercase\">\n",
    "                                    <div class=\"pl-3  mb-3\">\n",
    "                                        <a href=\"https://coinjournal.net/news/category/analysis/\" class=\"block  py-2.5  px-2  bg-grey-100  leading-[0.45rem]  transition-colors  hover:bg-grey-300\">Analysis</a>\n",
    "                                    </div>\n",
    "                                </div></div>\n",
    "                    </div>\n",
    "                </div>\n",
    "\"\"\""
   ]
  },
  {
   "cell_type": "code",
   "execution_count": 2,
   "outputs": [],
   "source": [
    "import re\n",
    "clean_text = re.sub('<.*?>', '', t)"
   ],
   "metadata": {
    "collapsed": false
   }
  },
  {
   "cell_type": "code",
   "execution_count": 4,
   "outputs": [
    {
     "data": {
      "text/plain": "'Memeinator’s token sale has raised over $3 million in the past few months.\\n\\n\\nTectum token surged as investors cheered the growth of its holders.\\n\\n\\nSolana remained under intense pressure as demand waned.\\n\\n\\nCryptocurrency prices are bracing for a big week that could set the tone for the rest of the year. The Securities and Exchange Commission (SEC) is widely expected to approve Bitcoin ETFs by the likes of Blackrock, Invesco, Fidelity, and Franklin Templeton.\\xa0\\nThe SEC has already asked the applicants to submit their final revisions ahead of a vote set for this week. Most experts believe that the agency has no reason to deny these applications because companies have already added the mitigation measures that the agency requested. This article looks at some of the top cryptocurrencies to watch this week, including Memeinator (MMTR), Tectum (TET), and Solana (SOL).\\nMemeinator prediction\\nMemeinator, one of the upcoming meme coins, has continued doing well in the past few months. The company has raised over $3 million in a token sale that has been going on for the past few months. This makes it one of the fastest-growing tokens in the industry.\\xa0\\nMemeinator aims to be the next big thing in the crypto industry. Precisely, it aims to become a major player in the meme coin industry that is now dominated by the likes of Dogecoin and Shiba Inu. It also aims to beat the new age meme coins like MEME, Pepe, and Bonk., which surged hard in 2023.\\nMemeinator aims to achieve this by creating an active community of enthusiast in its ecosystem. It also aims to create an ecosystem made up of games and NFTs in the future. Also, the developers aim to incorporate concepts of artificial intelligence (AI) to its ecosystem. You can buy the MMTR token\\xa0here.\\nTectum price forecast\\n\\nTectum is a blockchain project that claims to be the fastest one in the industry. According to its website, it can handle over 1 million transactions per second. This is a major figure considering that Ethereum handles less than 30 TPS. It is faster than most other well-known networks like Fantom, Avalanche, and Tron.\\xa0\\nTET, its token, was one of the top performers during the weekend as demand for the token jumped. According to its website, its holders jumped to over 12k across the ERC20, BEP20, and T12 networks. TET is used to mint Softnotes, paying merchant fees, Tectum gas fee, and bridged token fees.\\nThe 4H chart shows that the TET crypto price has been in a strong uptrend in the past few weeks. It has moved from a low of $9.07 in December to over $45. It remains above the 50-day and 25-day Exponential Moving Averages (EMA).\\xa0\\nThe outlook for Tectum is still bullish, with the next point to watch being at the YTD high of $45. A drop below the support at $35 will invalidate the bullish view.\\nhttps://twitter.com/tectumsocial/status/1744043800610148429\\nSolana price forecast\\n\\nSolana price has suffered a harsh reversal in the past few days. After peaking at $126 in December, the token has pulled back to $96. It has remained below the 50-period and 25-period moving averages. The coin’s Relative Strength Index (RSI) has continued falling and is hovering near the oversold level.\\nTherefore, the outlook for Solana price is bearish, with the next point to watch being at $84.70, the lowest swing on January 3rd. A move above the key resistance at $100 will invalidate the bearish view.\\n\\n\\n                    \\n\\n                        Share this article\\n                            \\n                                \\n                                    \\n                                \\n                            \\n                            \\n                                \\n                                    \\n                                \\n                            \\n                            \\n                                \\n                                    \\n                                \\n                            \\n                            \\n                                \\n                                    \\n                                \\n                            \\n                            \\n                                \\n                                    \\n                                \\n                            \\n                            \\n                                \\n                                    \\n                                \\n                            \\n                        \\n                    Categories\\n                                    \\n                                        Analysis'"
     },
     "execution_count": 4,
     "metadata": {},
     "output_type": "execute_result"
    }
   ],
   "source": [
    "clean_text.strip()"
   ],
   "metadata": {
    "collapsed": false
   }
  },
  {
   "cell_type": "code",
   "execution_count": 13,
   "outputs": [
    {
     "data": {
      "text/plain": "'Memeinator’s token sale has raised over $3 million in the past few months..Tectum token surged as investors cheered the growth of its holders..Solana remained under intense pressure as demand waned..Cryptocurrency prices are bracing for a big week that could set the tone for the rest of the year. The Securities and Exchange Commission (SEC) is widely expected to approve Bitcoin ETFs by the likes of Blackrock, Invesco, Fidelity, and Franklin Templeton. \\nThe SEC has already asked the applicants to submit their final revisions ahead of a vote set for this week. Most experts believe that the agency has no reason to deny these applications because companies have already added the mitigation measures that the agency requested. This article looks at some of the top cryptocurrencies to watch this week, including Memeinator (MMTR), Tectum (TET), and Solana (SOL).\\nMemeinator prediction\\nMemeinator, one of the upcoming meme coins, has continued doing well in the past few months. The company has raised over $3 million in a token sale that has been going on for the past few months. This makes it one of the fastest-growing tokens in the industry. \\nMemeinator aims to be the next big thing in the crypto industry. Precisely, it aims to become a major player in the meme coin industry that is now dominated by the likes of Dogecoin and Shiba Inu. It also aims to beat the new age meme coins like MEME, Pepe, and Bonk., which surged hard in 2023.\\nMemeinator aims to achieve this by creating an active community of enthusiast in its ecosystem. It also aims to create an ecosystem made up of games and NFTs in the future. Also, the developers aim to incorporate concepts of artificial intelligence (AI) to its ecosystem. You can buy the MMTR token <a href=\"https://memeinator.com/?utm_source=media&amp;utm_medium=artc&amp;utm_campaign=coinjournal&amp;utm_term=internal&amp;utm_content=price_prediction\">here.\\nTectum price forecast.Tectum is a blockchain project that claims to be the fastest one in the industry. According to its website, it can handle over 1 million transactions per second. This is a major figure considering that Ethereum handles less than 30 TPS. It is faster than most other well-known networks like Fantom, Avalanche, and Tron. \\nTET, its token, was one of the top performers during the weekend as demand for the token jumped. According to its website, its holders jumped to over 12k across the ERC20, BEP20, and T12 networks. TET is used to mint Softnotes, paying merchant fees, Tectum gas fee, and bridged token fees.\\nThe 4H chart shows that the TET crypto price has been in a strong uptrend in the past few weeks. It has moved from a low of $9.07 in December to over $45. It remains above the 50-day and 25-day Exponential Moving Averages (EMA). \\nThe outlook for Tectum is still bullish, with the next point to watch being at the YTD high of $45. A drop below the support at $35 will invalidate the bullish view.\\n<a href=\"https://twitter.com/tectumsocial/status/1744043800610148429\">https://twitter.com/tectumsocial/status/1744043800610148429\\nSolana price forecast.<a href=\"https://coinjournal.net/solana/\">Solana price has suffered a harsh reversal in the past few days. After peaking at $126 in December, the token has pulled back to $96. It has remained below the 50-period and 25-period moving averages. The coin’s Relative Strength Index (RSI) has continued falling and is hovering near the oversold level.\\nTherefore, the outlook for Solana price is bearish, with the next point to watch being at $84.70, the lowest swing on January 3rd. A move above the key resistance at $100 will invalidate the bearish view..                    .'"
     },
     "execution_count": 13,
     "metadata": {},
     "output_type": "execute_result"
    }
   ],
   "source": [
    "import unicodedata\n",
    "\n",
    "clean_text = re.sub(r'<(?!(a\\s|/a\\s).*?href=[\"\\'](http.*?))[^>]*?>', '', t).strip()\n",
    "clean_text = re.sub(r'\\n\\n+', '.', clean_text)\n",
    "if clean_text:\n",
    "    clean_text = clean_text.split(\"Share this article\")[0].strip()\n",
    "    clean_text = unicodedata.normalize(\"NFKD\", clean_text)\n",
    "clean_text"
   ],
   "metadata": {
    "collapsed": false
   }
  },
  {
   "cell_type": "code",
   "execution_count": null,
   "outputs": [],
   "source": [],
   "metadata": {
    "collapsed": false
   }
  }
 ],
 "metadata": {
  "kernelspec": {
   "display_name": "Python 3",
   "language": "python",
   "name": "python3"
  },
  "language_info": {
   "codemirror_mode": {
    "name": "ipython",
    "version": 2
   },
   "file_extension": ".py",
   "mimetype": "text/x-python",
   "name": "python",
   "nbconvert_exporter": "python",
   "pygments_lexer": "ipython2",
   "version": "2.7.6"
  }
 },
 "nbformat": 4,
 "nbformat_minor": 0
}
